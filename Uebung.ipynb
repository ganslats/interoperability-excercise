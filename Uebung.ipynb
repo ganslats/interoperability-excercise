{
 "cells": [
  {
   "cell_type": "markdown",
   "id": "swedish-label",
   "metadata": {},
   "source": [
    "# Übung Syntaktische & Semantische Interoperabilität"
   ]
  },
  {
   "cell_type": "code",
   "execution_count": null,
   "id": "registered-scotland",
   "metadata": {},
   "outputs": [],
   "source": [
    "# Installation (ggf. nach ersten Lauf auskommentieren)\n",
    "#!pip install folium\n",
    "#!pip install altair\n",
    "\n",
    "# Libraries\n",
    "import numpy\n",
    "import pandas as pd\n",
    "import folium\n",
    "from folium.plugins import MarkerCluster\n",
    "import altair as alt\n",
    "\n",
    "# Konfiguration\n",
    "base_url = \"https://raw.githubusercontent.com/ganslats/interoperability-excercise/main/data\""
   ]
  },
  {
   "cell_type": "markdown",
   "id": "moderate-lexington",
   "metadata": {},
   "source": [
    "## Patientenstammdaten"
   ]
  },
  {
   "cell_type": "code",
   "execution_count": null,
   "id": "contrary-richardson",
   "metadata": {},
   "outputs": [],
   "source": [
    "# Patientenstammsätze laden\n",
    "patients_mannheim = pd.read_csv(base_url + \"/Mannheim/patients.csv\", index_col=0)\n",
    "patients_leipzig  = pd.read_csv(base_url + \"/Leipzig/patients.csv\",  index_col=0)\n",
    "\n",
    "# Patientenstammsätze zusammenführen\n",
    "patients = pd.concat([patients_mannheim, patients_leipzig])\n",
    "\n",
    "# Karte mit Fokus Bundesgebiet erzeugen\n",
    "map = folium.Map(location=[51.151509, 10.217850], zoom_start=6)\n",
    "marker_cluster = MarkerCluster().add_to(map)\n",
    "\n",
    "# Patientenlokalisationen hinzufügen\n",
    "for row in patients.itertuples():\n",
    "    folium.Marker(location=[row.LAT,row.LON]).add_to(marker_cluster)\n",
    "\n",
    "# Karte anzeigen\n",
    "map"
   ]
  },
  {
   "cell_type": "markdown",
   "id": "explicit-melissa",
   "metadata": {},
   "source": [
    "## Aufgabe 1: Befunddaten laden & anzeigen\n",
    "\n",
    "* Laden Sie die Hämoglobin-Befunddaten für Leipzig und Mannheim\n",
    "* Ergänzen Sie jeweils den Ortsnamen in einer zusätzlichen Spalte \"ORT\"\n",
    "* Geben Sie beide Dataframes aus"
   ]
  },
  {
   "cell_type": "code",
   "execution_count": null,
   "id": "laughing-oxygen",
   "metadata": {},
   "outputs": [],
   "source": []
  },
  {
   "cell_type": "markdown",
   "id": "charming-currency",
   "metadata": {},
   "source": [
    "## Aufgabe 2: Mappingtabelle erstellen, um beide Datensätze zusammenzuführen\n",
    "\n",
    "* Vergleichen Sie die Spalten beider Quelldatensätze\n",
    "* Erstellen sie ein Mapping, mit dem Sie die Spaltenbezeichner des Mannheimer Datensatzes auf die Vorlage des Leipziger Datensatzes anpassen\n",
    "* Führen Sie beide Quelldatensätze in einem gemeinsamen Dataframe zusammen\n",
    "* Geben Sie den zusammengeführten Dataframe aus"
   ]
  },
  {
   "cell_type": "code",
   "execution_count": null,
   "id": "married-marina",
   "metadata": {},
   "outputs": [],
   "source": []
  },
  {
   "cell_type": "markdown",
   "id": "solar-praise",
   "metadata": {},
   "source": [
    "## Aufgabe 3: Zusammengeführte Befunddaten visualisieren\n",
    "\n",
    "* Generieren Sie einen Boxplot der Hämoglobinwerte nach Standort\n",
    "* Prüfen Sie, ob die Verteilungen voneinander abweichen"
   ]
  },
  {
   "cell_type": "code",
   "execution_count": null,
   "id": "boxed-lounge",
   "metadata": {},
   "outputs": [],
   "source": []
  },
  {
   "cell_type": "markdown",
   "id": "original-estate",
   "metadata": {},
   "source": [
    "## Aufgabe 4: Mapping für harmonisierte Semantische Codierung & Wertebereiche erstellen\n",
    "\n",
    "* Recherchieren Sie LOINC-Codes für Hämoglobin auf https://search.loinc.org/ (kostenfreier Account notwendig)\n",
    "* Recherchieren Sie den Umrechnungsfaktor zwischen den an beiden Standorten verwendeten Maßeinheiten für Hämoglobin\n",
    "* Erstellen sie ein Dataframe mit einem Mapping, das ausgehend von den Labormethoden-IDs der Quelldatensätze folgende Attribute hinzufügt:\n",
    "    * LOINC-Code\n",
    "    * LOINC-Name\n",
    "    * Deutschsprachigen Namen\n",
    "    * einheitliche Maßeinheit\n",
    "    * Multiplikator, um vom Quellwert auf die ggf. abweichende Maßeinheit umzurechnen\n",
    "* Geben Sie die Mappingtabelle aus"
   ]
  },
  {
   "cell_type": "code",
   "execution_count": null,
   "id": "alpine-retreat",
   "metadata": {},
   "outputs": [],
   "source": []
  },
  {
   "cell_type": "markdown",
   "id": "dangerous-collaboration",
   "metadata": {},
   "source": [
    "## Aufgabe 5: Mapping anwenden und harmonisierte Befunddaten visualisieren\n",
    "\n",
    "* Wenden Sie die Mappingtabelle auf die zusammengeführten Befunddaten an, um zusätzliche Spalten mit den harmonisierten Methodenangaben und Befunddaten zu ergänzen\n",
    "* Generieren Sie erneut einen Boxplot der Hämoglobinwerte nach Standort\n",
    "* Prüfen Sie, ob die Verteilungen jetzt einheitlich sind"
   ]
  },
  {
   "cell_type": "code",
   "execution_count": null,
   "id": "circular-buffer",
   "metadata": {},
   "outputs": [],
   "source": []
  }
 ],
 "metadata": {
  "kernelspec": {
   "display_name": "Python 3",
   "language": "python",
   "name": "python3"
  },
  "language_info": {
   "codemirror_mode": {
    "name": "ipython",
    "version": 3
   },
   "file_extension": ".py",
   "mimetype": "text/x-python",
   "name": "python",
   "nbconvert_exporter": "python",
   "pygments_lexer": "ipython3",
   "version": "3.8.8"
  }
 },
 "nbformat": 4,
 "nbformat_minor": 5
}
