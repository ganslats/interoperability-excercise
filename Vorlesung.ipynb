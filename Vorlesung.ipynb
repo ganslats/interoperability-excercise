{
 "cells": [
  {
   "cell_type": "markdown",
   "id": "broadband-commodity",
   "metadata": {},
   "source": [
    "# Vorlesung Syntaktische & Semantische Interoperabilität"
   ]
  },
  {
   "cell_type": "code",
   "execution_count": null,
   "id": "binary-roberts",
   "metadata": {},
   "outputs": [],
   "source": [
    "# Installation (ggf. nach ersten Lauf auskommentieren)\n",
    "#!pip install folium\n",
    "#!pip install altair\n",
    "\n",
    "# Libraries\n",
    "import numpy\n",
    "import pandas as pd\n",
    "import folium\n",
    "from folium.plugins import MarkerCluster\n",
    "import altair as alt\n",
    "\n",
    "# Konfiguration\n",
    "base_url = \"https://raw.githubusercontent.com/ganslats/interoperability-excercise/main/data\""
   ]
  },
  {
   "cell_type": "markdown",
   "id": "manual-sunday",
   "metadata": {},
   "source": [
    "## Patientenstammdaten"
   ]
  },
  {
   "cell_type": "code",
   "execution_count": null,
   "id": "architectural-chart",
   "metadata": {
    "scrolled": true
   },
   "outputs": [],
   "source": [
    "# Patientenstammsätze laden\n",
    "patients_mannheim = pd.read_csv(base_url + \"/Mannheim/patients.csv\", index_col=0)\n",
    "patients_leipzig  = pd.read_csv(base_url + \"/Leipzig/patients.csv\",  index_col=0)\n",
    "\n",
    "# Patientenstammsätze zusammenführen\n",
    "patients = pd.concat([patients_mannheim, patients_leipzig])\n",
    "\n",
    "# Karte mit Fokus Bundesgebiet erzeugen\n",
    "map = folium.Map(location=[51.151509, 10.217850], zoom_start=6)\n",
    "marker_cluster = MarkerCluster().add_to(map)\n",
    "\n",
    "# Patientenlokalisationen hinzufügen\n",
    "for row in patients.itertuples():\n",
    "    folium.Marker(location=[row.LAT,row.LON]).add_to(marker_cluster)\n",
    "\n",
    "# Karte anzeigen\n",
    "map"
   ]
  },
  {
   "cell_type": "markdown",
   "id": "reduced-payroll",
   "metadata": {},
   "source": [
    "## Befunddaten"
   ]
  },
  {
   "cell_type": "code",
   "execution_count": null,
   "id": "lucky-gathering",
   "metadata": {
    "scrolled": true
   },
   "outputs": [],
   "source": [
    "# Befunddaten laden\n",
    "observations_mannheim = pd.read_csv(base_url + \"/Mannheim/observations-glucose.csv\", index_col = False)\n",
    "observations_leipzig  = pd.read_csv(base_url + \"/Leipzig/observations-glucose.csv\",  index_col = False)\n",
    "\n",
    "# Ortsnamen hinzufügen\n",
    "observations_mannheim[\"ORT\"] = \"Mannheim\"\n",
    "observations_leipzig[\"ORT\"]  = \"Leipzig\""
   ]
  },
  {
   "cell_type": "markdown",
   "id": "sound-background",
   "metadata": {},
   "source": [
    "### Befunddaten Mannheim"
   ]
  },
  {
   "cell_type": "code",
   "execution_count": null,
   "id": "rising-opportunity",
   "metadata": {},
   "outputs": [],
   "source": [
    "observations_mannheim"
   ]
  },
  {
   "cell_type": "markdown",
   "id": "verified-praise",
   "metadata": {},
   "source": [
    "### Befunddaten Leipzig"
   ]
  },
  {
   "cell_type": "code",
   "execution_count": null,
   "id": "ranging-watts",
   "metadata": {},
   "outputs": [],
   "source": [
    "observations_leipzig"
   ]
  },
  {
   "cell_type": "markdown",
   "id": "favorite-guinea",
   "metadata": {},
   "source": [
    "## Syntaktisches Mapping, Zusammenführung & Exploration der Daten"
   ]
  },
  {
   "cell_type": "code",
   "execution_count": null,
   "id": "forbidden-bicycle",
   "metadata": {},
   "outputs": [],
   "source": [
    "# Spaltennamen Mannheim für Leipzig übernehmen\n",
    "observations_leipzig.rename({'PATNR':       'PATIENT_ID',\n",
    "                             'FALNR':       'FALL_ID', \n",
    "                             'DATUM':       'DATUM_ZEIT', \n",
    "                             'ANALYT_CODE': 'METHODE_ID', \n",
    "                             'ANALYT_NAME': 'METHODE_LANGNAME'}, axis = 1, inplace = True)\n",
    "\n",
    "# Befunddaten von Mannheim & Leipzig zusammenführen\n",
    "observations = pd.concat([observations_mannheim, observations_leipzig])"
   ]
  },
  {
   "cell_type": "markdown",
   "id": "identified-increase",
   "metadata": {},
   "source": [
    "### Zusammengeführter Befunddatensatz"
   ]
  },
  {
   "cell_type": "code",
   "execution_count": null,
   "id": "genuine-freeware",
   "metadata": {},
   "outputs": [],
   "source": [
    "# Zusammengeführte Befunddaten ausgeben\n",
    "observations"
   ]
  },
  {
   "cell_type": "markdown",
   "id": "stylish-missile",
   "metadata": {},
   "source": [
    "### Boxplot der Befunddaten nach Standort"
   ]
  },
  {
   "cell_type": "code",
   "execution_count": null,
   "id": "modular-sitting",
   "metadata": {},
   "outputs": [],
   "source": [
    "# Boxplot der zusammengeführten Daten ausgeben\n",
    "alt.data_transformers.disable_max_rows()\n",
    "alt.Chart(observations).mark_boxplot().encode(\n",
    "    y     = alt.Y('WERT', axis=alt.Axis(title='Wert')),\n",
    "    facet = alt.Facet('ORT', title=None)\n",
    ").properties(width=100)"
   ]
  },
  {
   "cell_type": "markdown",
   "id": "alien-organization",
   "metadata": {},
   "source": [
    "## Semantisches Mapping, Harmonisierung & erneute Exploration der Daten\n",
    "\n",
    "### Distinkte Ausprägungen der Laboranalyte"
   ]
  },
  {
   "cell_type": "code",
   "execution_count": null,
   "id": "behavioral-article",
   "metadata": {},
   "outputs": [],
   "source": [
    "# Zusammenfassung der Analyte & Einheiten nach Standort\n",
    "observations.groupby(['ORT', 'METHODE_ID', 'METHODE_LANGNAME', 'EINHEIT'], as_index=False).agg({'WERT': 'count'})"
   ]
  },
  {
   "cell_type": "markdown",
   "id": "acting-mechanics",
   "metadata": {},
   "source": [
    "### Mappingtabelle "
   ]
  },
  {
   "cell_type": "code",
   "execution_count": null,
   "id": "catholic-worse",
   "metadata": {},
   "outputs": [],
   "source": [
    "# Mappingtabelle erzeugen\n",
    "mapping = pd.DataFrame({\"METHODE_ID\":         [\"BLZ-STAT\", \"BLZ-ZLAB\", \"GLUPO\",   \"GLUSM\"],\n",
    "                        \"HARM_LOINC_CODE\":    [\"14743-9\",  \"14749-6\",  \"41653-7\", \"2345-7\"],\n",
    "                        \"HARM_LOINC_NAME\":    [\"Glucose [Moles/volume] in Capillary blood by Glucometer\",\n",
    "                                               \"Glucose [Moles/volume] in Serum or Plasma\",\n",
    "                                               \"Glucose [Mass/volume] in Capillary blood by Glucometer\",\n",
    "                                               \"Glucose [Mass/volume] in Serum or Plasma\"],\n",
    "                        \"HARM_KURZNAME\":      [\"Glucose POCT\", \"Glucose Zentrallabor\", \"Glucose POCT\", \"Glucose Zentrallabor\"],\n",
    "                        \"HARM_EINHEIT\":       [\"mg/dl\", \"mg/dl\", \"mg/dl\", \"mg/dl\"],\n",
    "                        \"HARM_MULTIPLIKATOR\": [18.02, 18.02, 1, 1]})\n",
    "\n",
    "mapping"
   ]
  },
  {
   "cell_type": "markdown",
   "id": "intense-output",
   "metadata": {},
   "source": [
    "### Mapping anwenden und Maßeinheiten harmonisieren"
   ]
  },
  {
   "cell_type": "code",
   "execution_count": null,
   "id": "demographic-denial",
   "metadata": {},
   "outputs": [],
   "source": [
    "# Befunddaten & Mapping verknüpfen\n",
    "harm_observations = pd.merge(observations, mapping, on=\"METHODE_ID\")\n",
    "\n",
    "# Befundwerte harmonisieren\n",
    "harm_observations[\"HARM_WERT\"] = harm_observations[\"WERT\"] * harm_observations[\"HARM_MULTIPLIKATOR\"]\n",
    "\n",
    "# Boxplot der harmonisierten Befundwerte ausgeben\n",
    "alt.data_transformers.disable_max_rows()\n",
    "alt.Chart(harm_observations).mark_boxplot().encode(\n",
    "    x     = alt.X('HARM_KURZNAME', axis=alt.Axis(title='')),\n",
    "    y     = alt.Y('HARM_WERT', axis=alt.Axis(title='Blutglucose [mg/dL]')),\n",
    "    color = alt.Color('HARM_KURZNAME', legend=alt.Legend(title=\"Untersuchung\")),\n",
    "    facet = alt.Facet('ORT', title=None)\n",
    ").properties(width=100)"
   ]
  }
 ],
 "metadata": {
  "kernelspec": {
   "display_name": "Python 3",
   "language": "python",
   "name": "python3"
  },
  "language_info": {
   "codemirror_mode": {
    "name": "ipython",
    "version": 3
   },
   "file_extension": ".py",
   "mimetype": "text/x-python",
   "name": "python",
   "nbconvert_exporter": "python",
   "pygments_lexer": "ipython3",
   "version": "3.8.8"
  }
 },
 "nbformat": 4,
 "nbformat_minor": 5
}
